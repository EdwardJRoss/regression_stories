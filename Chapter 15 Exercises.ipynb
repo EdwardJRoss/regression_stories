{
 "cells": [
  {
   "cell_type": "code",
   "execution_count": 16,
   "id": "2032ed35",
   "metadata": {},
   "outputs": [],
   "source": [
    "suppressPackageStartupMessages(library(rstanarm))\n",
    "suppressPackageStartupMessages(library(ggformula))\n",
    "library(tibble)\n",
    "suppressPackageStartupMessages(library(glue))\n",
    "suppressPackageStartupMessages(library(dplyr))\n",
    "suppressPackageStartupMessages(library(modelr))\n",
    "library(stringr)\n",
    "library(tidyr)"
   ]
  },
  {
   "cell_type": "code",
   "execution_count": 3,
   "id": "c43da061",
   "metadata": {},
   "outputs": [],
   "source": [
    "# Set the maximum number of columns and rows to display\n",
    "options(repr.matrix.max.cols=150, repr.matrix.max.rows=200)\n",
    "# Set the default plot size\n",
    "options(repr.plot.width=18, repr.plot.height=12)"
   ]
  },
  {
   "cell_type": "code",
   "execution_count": 6,
   "id": "b99858b5",
   "metadata": {},
   "outputs": [],
   "source": [
    "options(mc.cores = parallel::detectCores())"
   ]
  },
  {
   "cell_type": "code",
   "execution_count": 4,
   "id": "a8cc04f7",
   "metadata": {},
   "outputs": [],
   "source": [
    "download_if_missing <- function(filename, url) {\n",
    "    if (!file.exists(filename)) {\n",
    "        dir.create(dirname(filename), showWarnings=FALSE, recursive=TRUE)\n",
    "        download.file(url, destfile = filename, method=\"curl\")\n",
    "    }\n",
    "}"
   ]
  },
  {
   "cell_type": "markdown",
   "id": "34a585be",
   "metadata": {},
   "source": [
    "# Poisson and negative binomial regression\n",
    "\n",
    "The folder `RiskyBehaviour` contains data from a randomized trial targeting couples at high risk of HIV infaction.\n",
    "The intervention provided counseling sessions regarding practices that could reduce their likelihood of contracting HIV.\n",
    "Couples were randomized either to a control group, a group in which just the woman participated, or a group in which both members of the couple participated.\n",
    "One of the outcomes examined after three months was \"number of unprotected sex acts\"."
   ]
  },
  {
   "cell_type": "markdown",
   "id": "ab58e5d4",
   "metadata": {},
   "source": [
    "From [El-Bassel, N., Witte, S. S., Gilbert, L., Wu, E., Chang, M., Hill, J., and Steinglass, P. (2003). The efficacy of a relationship-based HIV/STD prevention program for heterosexual couples. American journal of public health, 93, 963--969.]( https://ajph.aphapublications.org/doi/pdfplus/10.2105/AJPH.93.6.963)"
   ]
  },
  {
   "cell_type": "code",
   "execution_count": 14,
   "id": "bff235c5",
   "metadata": {},
   "outputs": [],
   "source": [
    "filename <- \"./data/RiskyBehaviour/risky.csv\"\n",
    "\n",
    "download_if_missing(filename,\n",
    "                    'https://raw.githubusercontent.com/avehtari/ROS-Examples/master/RiskyBehavior/data/risky.csv')\n",
    "\n",
    "risky <- read.csv(filename)"
   ]
  },
  {
   "cell_type": "code",
   "execution_count": 17,
   "id": "bfe2e5dc",
   "metadata": {},
   "outputs": [
    {
     "data": {
      "text/html": [
       "<table class=\"dataframe\">\n",
       "<caption>A data.frame: 6 × 6</caption>\n",
       "<thead>\n",
       "\t<tr><th></th><th scope=col>sex</th><th scope=col>couples</th><th scope=col>women_alone</th><th scope=col>bs_hiv</th><th scope=col>bupacts</th><th scope=col>fupacts</th></tr>\n",
       "\t<tr><th></th><th scope=col>&lt;fct&gt;</th><th scope=col>&lt;int&gt;</th><th scope=col>&lt;int&gt;</th><th scope=col>&lt;fct&gt;</th><th scope=col>&lt;int&gt;</th><th scope=col>&lt;dbl&gt;</th></tr>\n",
       "</thead>\n",
       "<tbody>\n",
       "\t<tr><th scope=row>1</th><td>woman</td><td>0</td><td>1</td><td>negative</td><td> 7</td><td>32</td></tr>\n",
       "\t<tr><th scope=row>2</th><td>woman</td><td>0</td><td>0</td><td>negative</td><td> 2</td><td> 5</td></tr>\n",
       "\t<tr><th scope=row>3</th><td>woman</td><td>0</td><td>0</td><td>positive</td><td> 0</td><td>15</td></tr>\n",
       "\t<tr><th scope=row>4</th><td>woman</td><td>0</td><td>0</td><td>negative</td><td>24</td><td> 9</td></tr>\n",
       "\t<tr><th scope=row>5</th><td>woman</td><td>1</td><td>0</td><td>negative</td><td> 2</td><td> 2</td></tr>\n",
       "\t<tr><th scope=row>6</th><td>woman</td><td>1</td><td>0</td><td>negative</td><td>15</td><td> 4</td></tr>\n",
       "</tbody>\n",
       "</table>\n"
      ],
      "text/latex": [
       "A data.frame: 6 × 6\n",
       "\\begin{tabular}{r|llllll}\n",
       "  & sex & couples & women\\_alone & bs\\_hiv & bupacts & fupacts\\\\\n",
       "  & <fct> & <int> & <int> & <fct> & <int> & <dbl>\\\\\n",
       "\\hline\n",
       "\t1 & woman & 0 & 1 & negative &  7 & 32\\\\\n",
       "\t2 & woman & 0 & 0 & negative &  2 &  5\\\\\n",
       "\t3 & woman & 0 & 0 & positive &  0 & 15\\\\\n",
       "\t4 & woman & 0 & 0 & negative & 24 &  9\\\\\n",
       "\t5 & woman & 1 & 0 & negative &  2 &  2\\\\\n",
       "\t6 & woman & 1 & 0 & negative & 15 &  4\\\\\n",
       "\\end{tabular}\n"
      ],
      "text/markdown": [
       "\n",
       "A data.frame: 6 × 6\n",
       "\n",
       "| <!--/--> | sex &lt;fct&gt; | couples &lt;int&gt; | women_alone &lt;int&gt; | bs_hiv &lt;fct&gt; | bupacts &lt;int&gt; | fupacts &lt;dbl&gt; |\n",
       "|---|---|---|---|---|---|---|\n",
       "| 1 | woman | 0 | 1 | negative |  7 | 32 |\n",
       "| 2 | woman | 0 | 0 | negative |  2 |  5 |\n",
       "| 3 | woman | 0 | 0 | positive |  0 | 15 |\n",
       "| 4 | woman | 0 | 0 | negative | 24 |  9 |\n",
       "| 5 | woman | 1 | 0 | negative |  2 |  2 |\n",
       "| 6 | woman | 1 | 0 | negative | 15 |  4 |\n",
       "\n"
      ],
      "text/plain": [
       "  sex   couples women_alone bs_hiv   bupacts fupacts\n",
       "1 woman 0       1           negative  7      32     \n",
       "2 woman 0       0           negative  2       5     \n",
       "3 woman 0       0           positive  0      15     \n",
       "4 woman 0       0           negative 24       9     \n",
       "5 woman 1       0           negative  2       2     \n",
       "6 woman 1       0           negative 15       4     "
      ]
     },
     "metadata": {},
     "output_type": "display_data"
    }
   ],
   "source": [
    "risky %>% head()"
   ]
  },
  {
   "cell_type": "markdown",
   "id": "15defd39",
   "metadata": {},
   "source": [
    "## Poisson Regression\n",
    "\n",
    "Model this outcome as a function of treatment asignment using a Poisson regression.\n",
    "Does the model fit well?\n",
    "Is there evidence of overdispersion?"
   ]
  },
  {
   "cell_type": "markdown",
   "id": "6e1fbbae",
   "metadata": {},
   "source": [
    "## Adding pre-treatment measures\n",
    "\n",
    "Next extend the model to include pre-treatement measures of the outcome and the additional pre-treatment variables in the dataset.\n",
    "Does the model fit well?\n",
    "Is there evidence of overdispersion?"
   ]
  },
  {
   "cell_type": "markdown",
   "id": "9088d9b9",
   "metadata": {},
   "source": [
    "## Negative Binomial Regression\n",
    "\n",
    "Fit a negative binomial (overdispersed Poisson) model.\n",
    "What do you conclude regarding the effectiveness of the intervention?"
   ]
  },
  {
   "cell_type": "markdown",
   "id": "871fa1b1",
   "metadata": {},
   "source": [
    "## Validity of modeling assumptions\n",
    "\n",
    "These data include responses from both men and women from the participating couples.\n",
    "Does this give you any concern with regard to our modeling assumptions?"
   ]
  },
  {
   "cell_type": "markdown",
   "id": "ed9dc8ae",
   "metadata": {},
   "source": [
    "# Offset in a Poisson or negative binomial regression"
   ]
  }
 ],
 "metadata": {
  "kernelspec": {
   "display_name": "R",
   "language": "R",
   "name": "ir"
  },
  "language_info": {
   "codemirror_mode": "r",
   "file_extension": ".r",
   "mimetype": "text/x-r-source",
   "name": "R",
   "pygments_lexer": "r",
   "version": "3.6.3"
  },
  "toc": {
   "base_numbering": 1,
   "nav_menu": {},
   "number_sections": true,
   "sideBar": true,
   "skip_h1_title": false,
   "title_cell": "Table of Contents",
   "title_sidebar": "Contents",
   "toc_cell": false,
   "toc_position": {},
   "toc_section_display": true,
   "toc_window_display": false
  }
 },
 "nbformat": 4,
 "nbformat_minor": 5
}
