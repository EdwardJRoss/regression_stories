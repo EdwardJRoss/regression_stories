{
 "cells": [
  {
   "cell_type": "code",
   "execution_count": 1,
   "id": "e435c51e",
   "metadata": {},
   "outputs": [],
   "source": [
    "suppressPackageStartupMessages(library(rstanarm))\n",
    "suppressPackageStartupMessages(library(ggformula))\n",
    "library(tibble)\n",
    "suppressPackageStartupMessages(library(glue))\n",
    "suppressPackageStartupMessages(library(dplyr))\n",
    "suppressPackageStartupMessages(library(modelr))\n",
    "library(stringr)"
   ]
  },
  {
   "cell_type": "code",
   "execution_count": 2,
   "id": "fc4583ef",
   "metadata": {},
   "outputs": [],
   "source": [
    "# Set the maximum number of columns and rows to display\n",
    "options(repr.matrix.max.cols=150, repr.matrix.max.rows=200)\n",
    "# Set the default plot size\n",
    "options(repr.plot.width=18, repr.plot.height=12)"
   ]
  },
  {
   "cell_type": "code",
   "execution_count": 3,
   "id": "0b855702",
   "metadata": {},
   "outputs": [],
   "source": [
    "download_if_missing <- function(filename, url) {\n",
    "    if (!file.exists(filename)) {\n",
    "        dir.create(dirname(filename), showWarnings=FALSE, recursive=TRUE)\n",
    "        download.file(url, destfile = filename, method=\"curl\")\n",
    "    }\n",
    "}"
   ]
  },
  {
   "cell_type": "markdown",
   "id": "f074843b",
   "metadata": {},
   "source": [
    "# Fitting logistic regression to data\n",
    "\n",
    "The folder [NES](https://github.com/avehtari/ROS-Examples/tree/master/NES/) contains sthe survey data of presidential preference and income for the 1992 election analyzed in Section 13.1, along with other variables including sex, ethnicity, education, party identification, and political ideology."
   ]
  },
  {
   "cell_type": "code",
   "execution_count": 4,
   "id": "17c8625d",
   "metadata": {},
   "outputs": [],
   "source": [
    "filename <- 'data/nes/nes.txt'\n",
    "\n",
    "download_if_missing(filename, 'https://raw.githubusercontent.com/avehtari/ROS-Examples/master/NES/data/nes.txt')\n",
    "\n",
    "nes <- read.table(filename)"
   ]
  },
  {
   "cell_type": "code",
   "execution_count": 7,
   "id": "a14b98bb",
   "metadata": {},
   "outputs": [
    {
     "name": "stdout",
     "output_type": "stream",
     "text": [
      "[1] 34908\n"
     ]
    },
    {
     "data": {
      "text/html": [
       "<table class=\"dataframe\">\n",
       "<caption>A data.frame: 6 × 70</caption>\n",
       "<thead>\n",
       "\t<tr><th></th><th scope=col>year</th><th scope=col>resid</th><th scope=col>weight1</th><th scope=col>weight2</th><th scope=col>weight3</th><th scope=col>age</th><th scope=col>gender</th><th scope=col>race</th><th scope=col>educ1</th><th scope=col>urban</th><th scope=col>region</th><th scope=col>income</th><th scope=col>occup1</th><th scope=col>union</th><th scope=col>religion</th><th scope=col>educ2</th><th scope=col>educ3</th><th scope=col>martial_status</th><th scope=col>occup2</th><th scope=col>icpsr_cty</th><th scope=col>fips_cty</th><th scope=col>partyid7</th><th scope=col>partyid3</th><th scope=col>partyid3_b</th><th scope=col>str_partyid</th><th scope=col>father_party</th><th scope=col>mother_party</th><th scope=col>dlikes</th><th scope=col>rlikes</th><th scope=col>dem_therm</th><th scope=col>rep_therm</th><th scope=col>regis</th><th scope=col>vote</th><th scope=col>regisvote</th><th scope=col>presvote</th><th scope=col>presvote_2party</th><th scope=col>presvote_intent</th><th scope=col>ideo_feel</th><th scope=col>ideo7</th><th scope=col>ideo</th><th scope=col>cd</th><th scope=col>state</th><th scope=col>inter_pre</th><th scope=col>inter_post</th><th scope=col>black</th><th scope=col>female</th><th scope=col>age_sq</th><th scope=col>rep_presvote</th><th scope=col>rep_pres_intent</th><th scope=col>south</th><th scope=col>real_ideo</th><th scope=col>presapprov</th><th scope=col>perfin1</th><th scope=col>perfin2</th><th scope=col>perfin</th><th scope=col>presadm</th><th scope=col>age_10</th><th scope=col>age_sq_10</th><th scope=col>newfathe</th><th scope=col>newmoth</th><th scope=col>parent_party</th><th scope=col>white</th><th scope=col>year_new</th><th scope=col>income_new</th><th scope=col>age_new</th><th scope=col>vote.1</th><th scope=col>age_discrete</th><th scope=col>race_adj</th><th scope=col>dvote</th><th scope=col>rvote</th></tr>\n",
       "\t<tr><th></th><th scope=col>&lt;int&gt;</th><th scope=col>&lt;int&gt;</th><th scope=col>&lt;dbl&gt;</th><th scope=col>&lt;dbl&gt;</th><th scope=col>&lt;dbl&gt;</th><th scope=col>&lt;int&gt;</th><th scope=col>&lt;int&gt;</th><th scope=col>&lt;int&gt;</th><th scope=col>&lt;int&gt;</th><th scope=col>&lt;int&gt;</th><th scope=col>&lt;int&gt;</th><th scope=col>&lt;int&gt;</th><th scope=col>&lt;int&gt;</th><th scope=col>&lt;int&gt;</th><th scope=col>&lt;int&gt;</th><th scope=col>&lt;int&gt;</th><th scope=col>&lt;int&gt;</th><th scope=col>&lt;int&gt;</th><th scope=col>&lt;int&gt;</th><th scope=col>&lt;int&gt;</th><th scope=col>&lt;int&gt;</th><th scope=col>&lt;int&gt;</th><th scope=col>&lt;int&gt;</th><th scope=col>&lt;int&gt;</th><th scope=col>&lt;int&gt;</th><th scope=col>&lt;int&gt;</th><th scope=col>&lt;int&gt;</th><th scope=col>&lt;int&gt;</th><th scope=col>&lt;int&gt;</th><th scope=col>&lt;int&gt;</th><th scope=col>&lt;int&gt;</th><th scope=col>&lt;int&gt;</th><th scope=col>&lt;int&gt;</th><th scope=col>&lt;int&gt;</th><th scope=col>&lt;int&gt;</th><th scope=col>&lt;int&gt;</th><th scope=col>&lt;int&gt;</th><th scope=col>&lt;int&gt;</th><th scope=col>&lt;int&gt;</th><th scope=col>&lt;int&gt;</th><th scope=col>&lt;int&gt;</th><th scope=col>&lt;int&gt;</th><th scope=col>&lt;int&gt;</th><th scope=col>&lt;int&gt;</th><th scope=col>&lt;int&gt;</th><th scope=col>&lt;int&gt;</th><th scope=col>&lt;int&gt;</th><th scope=col>&lt;int&gt;</th><th scope=col>&lt;int&gt;</th><th scope=col>&lt;int&gt;</th><th scope=col>&lt;int&gt;</th><th scope=col>&lt;int&gt;</th><th scope=col>&lt;int&gt;</th><th scope=col>&lt;int&gt;</th><th scope=col>&lt;int&gt;</th><th scope=col>&lt;int&gt;</th><th scope=col>&lt;dbl&gt;</th><th scope=col>&lt;dbl&gt;</th><th scope=col>&lt;int&gt;</th><th scope=col>&lt;int&gt;</th><th scope=col>&lt;int&gt;</th><th scope=col>&lt;int&gt;</th><th scope=col>&lt;int&gt;</th><th scope=col>&lt;int&gt;</th><th scope=col>&lt;dbl&gt;</th><th scope=col>&lt;int&gt;</th><th scope=col>&lt;int&gt;</th><th scope=col>&lt;dbl&gt;</th><th scope=col>&lt;int&gt;</th><th scope=col>&lt;int&gt;</th></tr>\n",
       "</thead>\n",
       "<tbody>\n",
       "\t<tr><th scope=row>536</th><td>1952</td><td>1</td><td>1</td><td>1</td><td>1</td><td>25</td><td>2</td><td>1</td><td>2</td><td>2</td><td>1</td><td>4</td><td>2</td><td>1</td><td>1</td><td>3</td><td>3</td><td>1</td><td>2</td><td>NA</td><td>NA</td><td>6</td><td>3</td><td>3</td><td>3</td><td>3</td><td> 3</td><td> 0</td><td>1</td><td>NA</td><td>NA</td><td>2</td><td>2</td><td>3</td><td>2</td><td>2</td><td>2</td><td>NA</td><td>NA</td><td>NA</td><td>NA</td><td>13</td><td>50</td><td>NA</td><td>0</td><td>1</td><td> 625</td><td>1</td><td>1</td><td>0</td><td>NA</td><td>NA</td><td>NA</td><td>NA</td><td>NA</td><td>-1</td><td>2.5</td><td> 6.250000</td><td> 1</td><td> 1</td><td> 2</td><td>1</td><td>1</td><td> 1</td><td>-2.052455</td><td>1</td><td>1</td><td>1</td><td>0</td><td>1</td></tr>\n",
       "\t<tr><th scope=row>537</th><td>1952</td><td>2</td><td>1</td><td>1</td><td>1</td><td>33</td><td>2</td><td>1</td><td>1</td><td>2</td><td>1</td><td>4</td><td>6</td><td>1</td><td>1</td><td>1</td><td>1</td><td>1</td><td>6</td><td>NA</td><td>NA</td><td>5</td><td>3</td><td>3</td><td>2</td><td>2</td><td> 2</td><td>-1</td><td>3</td><td>NA</td><td>NA</td><td>2</td><td>2</td><td>3</td><td>1</td><td>1</td><td>2</td><td>NA</td><td>NA</td><td>NA</td><td>NA</td><td>13</td><td>50</td><td>NA</td><td>0</td><td>1</td><td>1089</td><td>0</td><td>1</td><td>0</td><td>NA</td><td>NA</td><td>NA</td><td>NA</td><td>NA</td><td>-1</td><td>3.3</td><td>10.889999</td><td> 0</td><td> 0</td><td> 0</td><td>1</td><td>1</td><td> 1</td><td>-1.252455</td><td>1</td><td>2</td><td>1</td><td>1</td><td>0</td></tr>\n",
       "\t<tr><th scope=row>538</th><td>1952</td><td>3</td><td>1</td><td>1</td><td>1</td><td>26</td><td>2</td><td>1</td><td>2</td><td>2</td><td>1</td><td>3</td><td>6</td><td>2</td><td>2</td><td>3</td><td>3</td><td>1</td><td>6</td><td>NA</td><td>NA</td><td>4</td><td>2</td><td>2</td><td>1</td><td>1</td><td> 1</td><td> 0</td><td>5</td><td>NA</td><td>NA</td><td>2</td><td>2</td><td>3</td><td>2</td><td>2</td><td>2</td><td>NA</td><td>NA</td><td>NA</td><td>NA</td><td>13</td><td>50</td><td>NA</td><td>0</td><td>1</td><td> 676</td><td>1</td><td>1</td><td>0</td><td>NA</td><td>NA</td><td>NA</td><td>NA</td><td>NA</td><td>-1</td><td>2.6</td><td> 6.759999</td><td>-1</td><td>-1</td><td>-2</td><td>1</td><td>1</td><td> 0</td><td>-1.952455</td><td>1</td><td>1</td><td>1</td><td>0</td><td>1</td></tr>\n",
       "\t<tr><th scope=row>539</th><td>1952</td><td>4</td><td>1</td><td>1</td><td>1</td><td>63</td><td>1</td><td>1</td><td>2</td><td>2</td><td>1</td><td>3</td><td>3</td><td>1</td><td>1</td><td>2</td><td>2</td><td>1</td><td>3</td><td>NA</td><td>NA</td><td>7</td><td>3</td><td>3</td><td>4</td><td>1</td><td>NA</td><td>-1</td><td>3</td><td>NA</td><td>NA</td><td>1</td><td>2</td><td>3</td><td>2</td><td>2</td><td>2</td><td>NA</td><td>NA</td><td>NA</td><td>NA</td><td>13</td><td>50</td><td>NA</td><td>0</td><td>0</td><td>3969</td><td>1</td><td>1</td><td>0</td><td>NA</td><td>NA</td><td>NA</td><td>NA</td><td>NA</td><td>-1</td><td>6.3</td><td>39.690002</td><td>-1</td><td>NA</td><td>NA</td><td>1</td><td>1</td><td> 0</td><td> 1.747545</td><td>1</td><td>3</td><td>1</td><td>0</td><td>1</td></tr>\n",
       "\t<tr><th scope=row>540</th><td>1952</td><td>5</td><td>1</td><td>1</td><td>1</td><td>66</td><td>2</td><td>1</td><td>2</td><td>2</td><td>2</td><td>1</td><td>6</td><td>2</td><td>1</td><td>4</td><td>4</td><td>1</td><td>6</td><td>NA</td><td>NA</td><td>7</td><td>3</td><td>3</td><td>4</td><td>1</td><td> 1</td><td>-2</td><td>0</td><td>NA</td><td>NA</td><td>2</td><td>2</td><td>3</td><td>2</td><td>2</td><td>2</td><td>NA</td><td>NA</td><td>NA</td><td>NA</td><td>24</td><td>49</td><td>NA</td><td>0</td><td>1</td><td>4356</td><td>1</td><td>1</td><td>0</td><td>NA</td><td>NA</td><td>NA</td><td>NA</td><td>NA</td><td>-1</td><td>6.6</td><td>43.559998</td><td>-1</td><td>-1</td><td>-2</td><td>1</td><td>1</td><td>-2</td><td> 2.047545</td><td>1</td><td>4</td><td>1</td><td>0</td><td>1</td></tr>\n",
       "\t<tr><th scope=row>541</th><td>1952</td><td>6</td><td>1</td><td>1</td><td>1</td><td>48</td><td>2</td><td>1</td><td>2</td><td>2</td><td>2</td><td>4</td><td>6</td><td>1</td><td>1</td><td>2</td><td>2</td><td>1</td><td>6</td><td>NA</td><td>NA</td><td>3</td><td>1</td><td>1</td><td>2</td><td>1</td><td> 1</td><td> 0</td><td>4</td><td>NA</td><td>NA</td><td>2</td><td>2</td><td>3</td><td>2</td><td>2</td><td>2</td><td>NA</td><td>NA</td><td>NA</td><td>NA</td><td>24</td><td>49</td><td>NA</td><td>0</td><td>1</td><td>2304</td><td>1</td><td>1</td><td>0</td><td>NA</td><td>NA</td><td>NA</td><td>NA</td><td>NA</td><td>-1</td><td>4.8</td><td>23.040001</td><td>-1</td><td>-1</td><td>-2</td><td>1</td><td>1</td><td> 1</td><td> 0.247545</td><td>1</td><td>3</td><td>1</td><td>0</td><td>1</td></tr>\n",
       "</tbody>\n",
       "</table>\n"
      ],
      "text/latex": [
       "A data.frame: 6 × 70\n",
       "\\begin{tabular}{r|llllllllllllllllllllllllllllllllllllllllllllllllllllllllllllllllllllll}\n",
       "  & year & resid & weight1 & weight2 & weight3 & age & gender & race & educ1 & urban & region & income & occup1 & union & religion & educ2 & educ3 & martial\\_status & occup2 & icpsr\\_cty & fips\\_cty & partyid7 & partyid3 & partyid3\\_b & str\\_partyid & father\\_party & mother\\_party & dlikes & rlikes & dem\\_therm & rep\\_therm & regis & vote & regisvote & presvote & presvote\\_2party & presvote\\_intent & ideo\\_feel & ideo7 & ideo & cd & state & inter\\_pre & inter\\_post & black & female & age\\_sq & rep\\_presvote & rep\\_pres\\_intent & south & real\\_ideo & presapprov & perfin1 & perfin2 & perfin & presadm & age\\_10 & age\\_sq\\_10 & newfathe & newmoth & parent\\_party & white & year\\_new & income\\_new & age\\_new & vote.1 & age\\_discrete & race\\_adj & dvote & rvote\\\\\n",
       "  & <int> & <int> & <dbl> & <dbl> & <dbl> & <int> & <int> & <int> & <int> & <int> & <int> & <int> & <int> & <int> & <int> & <int> & <int> & <int> & <int> & <int> & <int> & <int> & <int> & <int> & <int> & <int> & <int> & <int> & <int> & <int> & <int> & <int> & <int> & <int> & <int> & <int> & <int> & <int> & <int> & <int> & <int> & <int> & <int> & <int> & <int> & <int> & <int> & <int> & <int> & <int> & <int> & <int> & <int> & <int> & <int> & <int> & <dbl> & <dbl> & <int> & <int> & <int> & <int> & <int> & <int> & <dbl> & <int> & <int> & <dbl> & <int> & <int>\\\\\n",
       "\\hline\n",
       "\t536 & 1952 & 1 & 1 & 1 & 1 & 25 & 2 & 1 & 2 & 2 & 1 & 4 & 2 & 1 & 1 & 3 & 3 & 1 & 2 & NA & NA & 6 & 3 & 3 & 3 & 3 &  3 &  0 & 1 & NA & NA & 2 & 2 & 3 & 2 & 2 & 2 & NA & NA & NA & NA & 13 & 50 & NA & 0 & 1 &  625 & 1 & 1 & 0 & NA & NA & NA & NA & NA & -1 & 2.5 &  6.250000 &  1 &  1 &  2 & 1 & 1 &  1 & -2.052455 & 1 & 1 & 1 & 0 & 1\\\\\n",
       "\t537 & 1952 & 2 & 1 & 1 & 1 & 33 & 2 & 1 & 1 & 2 & 1 & 4 & 6 & 1 & 1 & 1 & 1 & 1 & 6 & NA & NA & 5 & 3 & 3 & 2 & 2 &  2 & -1 & 3 & NA & NA & 2 & 2 & 3 & 1 & 1 & 2 & NA & NA & NA & NA & 13 & 50 & NA & 0 & 1 & 1089 & 0 & 1 & 0 & NA & NA & NA & NA & NA & -1 & 3.3 & 10.889999 &  0 &  0 &  0 & 1 & 1 &  1 & -1.252455 & 1 & 2 & 1 & 1 & 0\\\\\n",
       "\t538 & 1952 & 3 & 1 & 1 & 1 & 26 & 2 & 1 & 2 & 2 & 1 & 3 & 6 & 2 & 2 & 3 & 3 & 1 & 6 & NA & NA & 4 & 2 & 2 & 1 & 1 &  1 &  0 & 5 & NA & NA & 2 & 2 & 3 & 2 & 2 & 2 & NA & NA & NA & NA & 13 & 50 & NA & 0 & 1 &  676 & 1 & 1 & 0 & NA & NA & NA & NA & NA & -1 & 2.6 &  6.759999 & -1 & -1 & -2 & 1 & 1 &  0 & -1.952455 & 1 & 1 & 1 & 0 & 1\\\\\n",
       "\t539 & 1952 & 4 & 1 & 1 & 1 & 63 & 1 & 1 & 2 & 2 & 1 & 3 & 3 & 1 & 1 & 2 & 2 & 1 & 3 & NA & NA & 7 & 3 & 3 & 4 & 1 & NA & -1 & 3 & NA & NA & 1 & 2 & 3 & 2 & 2 & 2 & NA & NA & NA & NA & 13 & 50 & NA & 0 & 0 & 3969 & 1 & 1 & 0 & NA & NA & NA & NA & NA & -1 & 6.3 & 39.690002 & -1 & NA & NA & 1 & 1 &  0 &  1.747545 & 1 & 3 & 1 & 0 & 1\\\\\n",
       "\t540 & 1952 & 5 & 1 & 1 & 1 & 66 & 2 & 1 & 2 & 2 & 2 & 1 & 6 & 2 & 1 & 4 & 4 & 1 & 6 & NA & NA & 7 & 3 & 3 & 4 & 1 &  1 & -2 & 0 & NA & NA & 2 & 2 & 3 & 2 & 2 & 2 & NA & NA & NA & NA & 24 & 49 & NA & 0 & 1 & 4356 & 1 & 1 & 0 & NA & NA & NA & NA & NA & -1 & 6.6 & 43.559998 & -1 & -1 & -2 & 1 & 1 & -2 &  2.047545 & 1 & 4 & 1 & 0 & 1\\\\\n",
       "\t541 & 1952 & 6 & 1 & 1 & 1 & 48 & 2 & 1 & 2 & 2 & 2 & 4 & 6 & 1 & 1 & 2 & 2 & 1 & 6 & NA & NA & 3 & 1 & 1 & 2 & 1 &  1 &  0 & 4 & NA & NA & 2 & 2 & 3 & 2 & 2 & 2 & NA & NA & NA & NA & 24 & 49 & NA & 0 & 1 & 2304 & 1 & 1 & 0 & NA & NA & NA & NA & NA & -1 & 4.8 & 23.040001 & -1 & -1 & -2 & 1 & 1 &  1 &  0.247545 & 1 & 3 & 1 & 0 & 1\\\\\n",
       "\\end{tabular}\n"
      ],
      "text/markdown": [
       "\n",
       "A data.frame: 6 × 70\n",
       "\n",
       "| <!--/--> | year &lt;int&gt; | resid &lt;int&gt; | weight1 &lt;dbl&gt; | weight2 &lt;dbl&gt; | weight3 &lt;dbl&gt; | age &lt;int&gt; | gender &lt;int&gt; | race &lt;int&gt; | educ1 &lt;int&gt; | urban &lt;int&gt; | region &lt;int&gt; | income &lt;int&gt; | occup1 &lt;int&gt; | union &lt;int&gt; | religion &lt;int&gt; | educ2 &lt;int&gt; | educ3 &lt;int&gt; | martial_status &lt;int&gt; | occup2 &lt;int&gt; | icpsr_cty &lt;int&gt; | fips_cty &lt;int&gt; | partyid7 &lt;int&gt; | partyid3 &lt;int&gt; | partyid3_b &lt;int&gt; | str_partyid &lt;int&gt; | father_party &lt;int&gt; | mother_party &lt;int&gt; | dlikes &lt;int&gt; | rlikes &lt;int&gt; | dem_therm &lt;int&gt; | rep_therm &lt;int&gt; | regis &lt;int&gt; | vote &lt;int&gt; | regisvote &lt;int&gt; | presvote &lt;int&gt; | presvote_2party &lt;int&gt; | presvote_intent &lt;int&gt; | ideo_feel &lt;int&gt; | ideo7 &lt;int&gt; | ideo &lt;int&gt; | cd &lt;int&gt; | state &lt;int&gt; | inter_pre &lt;int&gt; | inter_post &lt;int&gt; | black &lt;int&gt; | female &lt;int&gt; | age_sq &lt;int&gt; | rep_presvote &lt;int&gt; | rep_pres_intent &lt;int&gt; | south &lt;int&gt; | real_ideo &lt;int&gt; | presapprov &lt;int&gt; | perfin1 &lt;int&gt; | perfin2 &lt;int&gt; | perfin &lt;int&gt; | presadm &lt;int&gt; | age_10 &lt;dbl&gt; | age_sq_10 &lt;dbl&gt; | newfathe &lt;int&gt; | newmoth &lt;int&gt; | parent_party &lt;int&gt; | white &lt;int&gt; | year_new &lt;int&gt; | income_new &lt;int&gt; | age_new &lt;dbl&gt; | vote.1 &lt;int&gt; | age_discrete &lt;int&gt; | race_adj &lt;dbl&gt; | dvote &lt;int&gt; | rvote &lt;int&gt; |\n",
       "|---|---|---|---|---|---|---|---|---|---|---|---|---|---|---|---|---|---|---|---|---|---|---|---|---|---|---|---|---|---|---|---|---|---|---|---|---|---|---|---|---|---|---|---|---|---|---|---|---|---|---|---|---|---|---|---|---|---|---|---|---|---|---|---|---|---|---|---|---|---|---|\n",
       "| 536 | 1952 | 1 | 1 | 1 | 1 | 25 | 2 | 1 | 2 | 2 | 1 | 4 | 2 | 1 | 1 | 3 | 3 | 1 | 2 | NA | NA | 6 | 3 | 3 | 3 | 3 |  3 |  0 | 1 | NA | NA | 2 | 2 | 3 | 2 | 2 | 2 | NA | NA | NA | NA | 13 | 50 | NA | 0 | 1 |  625 | 1 | 1 | 0 | NA | NA | NA | NA | NA | -1 | 2.5 |  6.250000 |  1 |  1 |  2 | 1 | 1 |  1 | -2.052455 | 1 | 1 | 1 | 0 | 1 |\n",
       "| 537 | 1952 | 2 | 1 | 1 | 1 | 33 | 2 | 1 | 1 | 2 | 1 | 4 | 6 | 1 | 1 | 1 | 1 | 1 | 6 | NA | NA | 5 | 3 | 3 | 2 | 2 |  2 | -1 | 3 | NA | NA | 2 | 2 | 3 | 1 | 1 | 2 | NA | NA | NA | NA | 13 | 50 | NA | 0 | 1 | 1089 | 0 | 1 | 0 | NA | NA | NA | NA | NA | -1 | 3.3 | 10.889999 |  0 |  0 |  0 | 1 | 1 |  1 | -1.252455 | 1 | 2 | 1 | 1 | 0 |\n",
       "| 538 | 1952 | 3 | 1 | 1 | 1 | 26 | 2 | 1 | 2 | 2 | 1 | 3 | 6 | 2 | 2 | 3 | 3 | 1 | 6 | NA | NA | 4 | 2 | 2 | 1 | 1 |  1 |  0 | 5 | NA | NA | 2 | 2 | 3 | 2 | 2 | 2 | NA | NA | NA | NA | 13 | 50 | NA | 0 | 1 |  676 | 1 | 1 | 0 | NA | NA | NA | NA | NA | -1 | 2.6 |  6.759999 | -1 | -1 | -2 | 1 | 1 |  0 | -1.952455 | 1 | 1 | 1 | 0 | 1 |\n",
       "| 539 | 1952 | 4 | 1 | 1 | 1 | 63 | 1 | 1 | 2 | 2 | 1 | 3 | 3 | 1 | 1 | 2 | 2 | 1 | 3 | NA | NA | 7 | 3 | 3 | 4 | 1 | NA | -1 | 3 | NA | NA | 1 | 2 | 3 | 2 | 2 | 2 | NA | NA | NA | NA | 13 | 50 | NA | 0 | 0 | 3969 | 1 | 1 | 0 | NA | NA | NA | NA | NA | -1 | 6.3 | 39.690002 | -1 | NA | NA | 1 | 1 |  0 |  1.747545 | 1 | 3 | 1 | 0 | 1 |\n",
       "| 540 | 1952 | 5 | 1 | 1 | 1 | 66 | 2 | 1 | 2 | 2 | 2 | 1 | 6 | 2 | 1 | 4 | 4 | 1 | 6 | NA | NA | 7 | 3 | 3 | 4 | 1 |  1 | -2 | 0 | NA | NA | 2 | 2 | 3 | 2 | 2 | 2 | NA | NA | NA | NA | 24 | 49 | NA | 0 | 1 | 4356 | 1 | 1 | 0 | NA | NA | NA | NA | NA | -1 | 6.6 | 43.559998 | -1 | -1 | -2 | 1 | 1 | -2 |  2.047545 | 1 | 4 | 1 | 0 | 1 |\n",
       "| 541 | 1952 | 6 | 1 | 1 | 1 | 48 | 2 | 1 | 2 | 2 | 2 | 4 | 6 | 1 | 1 | 2 | 2 | 1 | 6 | NA | NA | 3 | 1 | 1 | 2 | 1 |  1 |  0 | 4 | NA | NA | 2 | 2 | 3 | 2 | 2 | 2 | NA | NA | NA | NA | 24 | 49 | NA | 0 | 1 | 2304 | 1 | 1 | 0 | NA | NA | NA | NA | NA | -1 | 4.8 | 23.040001 | -1 | -1 | -2 | 1 | 1 |  1 |  0.247545 | 1 | 3 | 1 | 0 | 1 |\n",
       "\n"
      ],
      "text/plain": [
       "    year resid weight1 weight2 weight3 age gender race educ1 urban region\n",
       "536 1952 1     1       1       1       25  2      1    2     2     1     \n",
       "537 1952 2     1       1       1       33  2      1    1     2     1     \n",
       "538 1952 3     1       1       1       26  2      1    2     2     1     \n",
       "539 1952 4     1       1       1       63  1      1    2     2     1     \n",
       "540 1952 5     1       1       1       66  2      1    2     2     2     \n",
       "541 1952 6     1       1       1       48  2      1    2     2     2     \n",
       "    income occup1 union religion educ2 educ3 martial_status occup2 icpsr_cty\n",
       "536 4      2      1     1        3     3     1              2      NA       \n",
       "537 4      6      1     1        1     1     1              6      NA       \n",
       "538 3      6      2     2        3     3     1              6      NA       \n",
       "539 3      3      1     1        2     2     1              3      NA       \n",
       "540 1      6      2     1        4     4     1              6      NA       \n",
       "541 4      6      1     1        2     2     1              6      NA       \n",
       "    fips_cty partyid7 partyid3 partyid3_b str_partyid father_party mother_party\n",
       "536 NA       6        3        3          3           3             3          \n",
       "537 NA       5        3        3          2           2             2          \n",
       "538 NA       4        2        2          1           1             1          \n",
       "539 NA       7        3        3          4           1            NA          \n",
       "540 NA       7        3        3          4           1             1          \n",
       "541 NA       3        1        1          2           1             1          \n",
       "    dlikes rlikes dem_therm rep_therm regis vote regisvote presvote\n",
       "536  0     1      NA        NA        2     2    3         2       \n",
       "537 -1     3      NA        NA        2     2    3         1       \n",
       "538  0     5      NA        NA        2     2    3         2       \n",
       "539 -1     3      NA        NA        1     2    3         2       \n",
       "540 -2     0      NA        NA        2     2    3         2       \n",
       "541  0     4      NA        NA        2     2    3         2       \n",
       "    presvote_2party presvote_intent ideo_feel ideo7 ideo cd state inter_pre\n",
       "536 2               2               NA        NA    NA   NA 13    50       \n",
       "537 1               2               NA        NA    NA   NA 13    50       \n",
       "538 2               2               NA        NA    NA   NA 13    50       \n",
       "539 2               2               NA        NA    NA   NA 13    50       \n",
       "540 2               2               NA        NA    NA   NA 24    49       \n",
       "541 2               2               NA        NA    NA   NA 24    49       \n",
       "    inter_post black female age_sq rep_presvote rep_pres_intent south real_ideo\n",
       "536 NA         0     1       625   1            1               0     NA       \n",
       "537 NA         0     1      1089   0            1               0     NA       \n",
       "538 NA         0     1       676   1            1               0     NA       \n",
       "539 NA         0     0      3969   1            1               0     NA       \n",
       "540 NA         0     1      4356   1            1               0     NA       \n",
       "541 NA         0     1      2304   1            1               0     NA       \n",
       "    presapprov perfin1 perfin2 perfin presadm age_10 age_sq_10 newfathe newmoth\n",
       "536 NA         NA      NA      NA     -1      2.5     6.250000  1        1     \n",
       "537 NA         NA      NA      NA     -1      3.3    10.889999  0        0     \n",
       "538 NA         NA      NA      NA     -1      2.6     6.759999 -1       -1     \n",
       "539 NA         NA      NA      NA     -1      6.3    39.690002 -1       NA     \n",
       "540 NA         NA      NA      NA     -1      6.6    43.559998 -1       -1     \n",
       "541 NA         NA      NA      NA     -1      4.8    23.040001 -1       -1     \n",
       "    parent_party white year_new income_new age_new   vote.1 age_discrete\n",
       "536  2           1     1         1         -2.052455 1      1           \n",
       "537  0           1     1         1         -1.252455 1      2           \n",
       "538 -2           1     1         0         -1.952455 1      1           \n",
       "539 NA           1     1         0          1.747545 1      3           \n",
       "540 -2           1     1        -2          2.047545 1      4           \n",
       "541 -2           1     1         1          0.247545 1      3           \n",
       "    race_adj dvote rvote\n",
       "536 1        0     1    \n",
       "537 1        1     0    \n",
       "538 1        0     1    \n",
       "539 1        0     1    \n",
       "540 1        0     1    \n",
       "541 1        0     1    "
      ]
     },
     "metadata": {},
     "output_type": "display_data"
    }
   ],
   "source": [
    "print(nrow(nes))\n",
    "nes %>% head()"
   ]
  },
  {
   "cell_type": "markdown",
   "id": "c2c5131b",
   "metadata": {},
   "source": [
    "## Fit logistic regression models\n",
    "\n",
    "Fit a logistic regression predicting support for Bush given all these inputs.\n",
    "Consider how to include these as regression predictors and also consider possible interactions."
   ]
  },
  {
   "cell_type": "markdown",
   "id": "0208ee88",
   "metadata": {},
   "source": [
    "## Evaluate and compare models\n",
    "\n",
    "Evaluate and compare the different models you have fit."
   ]
  },
  {
   "cell_type": "markdown",
   "id": "9837d850",
   "metadata": {},
   "source": [
    "## Variable importance\n",
    "\n",
    "For the chosen model, discuss and compare the importance of each input variable in the prediction."
   ]
  },
  {
   "cell_type": "markdown",
   "id": "02f740da",
   "metadata": {},
   "source": [
    "# Sketching the logistic curve\n",
    "\n",
    "Sketch the following logistic regression curves with pen on paper:\n",
    "\n",
    "a) $ {\\rm Pr}(y = 1) = {\\rm logit}^{-1}(x) $\n",
    "\n",
    "b) $ {\\rm Pr}(y = 1) = {\\rm logit}^{-1}(2+x) $\n",
    "\n",
    "c) $ {\\rm Pr}(y = 1) = {\\rm logit}^{-1}(2x) $\n",
    "\n",
    "d) $ {\\rm Pr}(y = 1) = {\\rm logit}^{-1}(2+2x) $\n",
    "\n",
    "e) $ {\\rm Pr}(y = 1) = {\\rm logit}^{-1}(-2x) $"
   ]
  },
  {
   "cell_type": "markdown",
   "id": "37ef611e",
   "metadata": {},
   "source": [
    "# Understanding logistic regression coefficients\n",
    "\n",
    "In Chapter 7 we fit a model predicting incumbent party's two-party vote percentage given economic growth: ${\\rm vote} = 46.2 + 3.1 \\times {\\rm growth} + {\\rm error} $, where `growth` ranges from -0.5 to 5.6 in the data, and errors are approximately normally distributed with mean 0 and standard deviation 3.8.\n",
    "Suppose instead we were to fit a logitic regression, $ {\\rm Pr}({\\rm vote} > 50) = {\\rm logit}^{-1}(a + b \\times {\\rm growth}) $. Approximately what are the estimates of $(a, b)$.\n",
    "\n",
    "Figure this out in four steps:\n",
    "\n",
    "<ol style=\"list-style-type:lower-roman;\">\n",
    "     \n",
    "<li> Use the fitted linear regression model to estimate Pr(vote > 50) for different values of `growth`\n",
    "    </li>\n",
    "<li>Plot these probabilities and draw a logistic curve through them\n",
    "    </li>\n",
    "<li> Use the divide-by-4 rule to estimate the slope of the logistic regression model\n",
    "    </li>\n",
    "<li> Use the point where the probability goes through 0.5 to deduce the intercept.\n",
    "    </li>\n",
    "    </ol>\n",
    "Do all this using the above information, without downloading the data and fitting the model."
   ]
  },
  {
   "cell_type": "markdown",
   "id": "448dc75c",
   "metadata": {},
   "source": [
    "### Checking with the data"
   ]
  },
  {
   "cell_type": "code",
   "execution_count": 20,
   "id": "553d4276",
   "metadata": {},
   "outputs": [],
   "source": [
    "filename <- \"./data/ElectionsEconomy/hibbs.dat\"\n",
    "\n",
    "download_if_missing(filename,\n",
    "                    'https://raw.githubusercontent.com/avehtari/ROS-Examples/master/ElectionsEconomy/data/hibbs.dat')\n",
    "hibbs <- read.table(filename, header=TRUE)"
   ]
  },
  {
   "cell_type": "markdown",
   "id": "939ec333",
   "metadata": {},
   "source": [
    "# Logistic regression with two predictors\n",
    "\n",
    "The following logistic regression has been fit:\n",
    "\n",
    "```\n",
    "            Median    MAD_SD\n",
    "(Intercept)  -1.9      0.6\n",
    "x             0.7      0.8\n",
    "z             0.7      0.5\n",
    "```\n",
    "\n",
    "Here, $x$ is a continuous predictor ranging from 0 to 10, and $z$ is a binary predictor taking on the values 0 and 1.\n",
    "Display the fitted model as two curves on a graph of ${\\rm Pr}(y=1)$ vs $x$."
   ]
  },
  {
   "cell_type": "markdown",
   "id": "96ff3efc",
   "metadata": {},
   "source": [
    "# Intepreting logistic regression coefficients\n",
    "\n",
    "Here is a fitted model from the Bangladesh analysis predicting whether a person with high-arsenic drinking water will switch wells, given the arsenic level in their existing well and the disance to the nearest safe well:\n",
    "\n",
    "```\n",
    "stan_glm(formula = switch ~ dist100 + arsenic, family=binomial(link=\"logit\"), data=wells)\n",
    "\n",
    "            Median    MAD_SD\n",
    "(Intercept)  0.00      0.08\n",
    "dist100     -0.90      0.10\n",
    "arsenic      0.46      0.04\n",
    "```\n",
    "\n",
    "Compare two people who live the same distance from the nearest well bus whose arsenic levels differ, with one person having an arsenic level of 0.5 and the other person having a level of 1.0.\n",
    "You will estimate how much more likely this second person is to switch wells.\n",
    "Give an approximate estimate, standard error, 50% interval, 95% interval, using two different methods.\n",
    "\n",
    "## Divide-by-4\n",
    "\n",
    "Use the divide-by-4 rule, based on the information from this regression output."
   ]
  },
  {
   "cell_type": "markdown",
   "id": "0256448e",
   "metadata": {},
   "source": [
    "## Predictive simulation\n",
    "\n",
    "Use predictive simulation from the fitted model in R, under the assumption that these two people each live 50 meters from the nearest well."
   ]
  },
  {
   "cell_type": "markdown",
   "id": "682ee204",
   "metadata": {},
   "source": [
    "# Interpreting logistic regression coefficient uncertainties\n",
    "\n",
    "In Section 14.2, there were two models, `fit_4` and `fit_5`, with distance and arsenic levels as predictors along with an interaction term.\n",
    "The model `fit_5` differed by using centred predictors.\n",
    "Compare the reported uncertainty estimates (mad sd) for the coefficients, and use for example the `mcmc_pairs` function in the `bayesplot` package to examine the pairwise joint posterior distributions.\n",
    "Explain why the mad sd values are different for `fit_4` and `fit_5`."
   ]
  },
  {
   "cell_type": "code",
   "execution_count": 26,
   "id": "f0bccb1f",
   "metadata": {},
   "outputs": [],
   "source": [
    "filename <- \"./data/Arsenic/wells.csv\"\n",
    "\n",
    "download_if_missing(filename,\n",
    "                    'https://raw.githubusercontent.com/avehtari/ROS-Examples/master/Arsenic/data/wells.csv')\n",
    "\n",
    "wells <- read.csv(filename)"
   ]
  },
  {
   "cell_type": "code",
   "execution_count": 29,
   "id": "c2e119c0",
   "metadata": {},
   "outputs": [],
   "source": [
    "wells <- wells %>% \n",
    "mutate(dist100 = dist/100,\n",
    "       c_dist100 = dist100 - mean(dist100),\n",
    "       c_arsenic = arsenic - mean(arsenic))"
   ]
  },
  {
   "cell_type": "code",
   "execution_count": 30,
   "id": "1a9218e3",
   "metadata": {},
   "outputs": [
    {
     "data": {
      "text/plain": [
       "stan_glm\n",
       " family:       binomial [logit]\n",
       " formula:      switch ~ dist100 + arsenic + dist100:arsenic\n",
       " observations: 3020\n",
       " predictors:   4\n",
       "------\n",
       "                Median MAD_SD\n",
       "(Intercept)     -0.1    0.1  \n",
       "dist100         -0.6    0.2  \n",
       "arsenic          0.6    0.1  \n",
       "dist100:arsenic -0.2    0.1  \n",
       "\n",
       "------\n",
       "* For help interpreting the printed output see ?print.stanreg\n",
       "* For info on the priors used see ?prior_summary.stanreg"
      ]
     },
     "metadata": {},
     "output_type": "display_data"
    }
   ],
   "source": [
    "(fit4 <- stan_glm(switch ~ dist100 + arsenic + dist100:arsenic,\n",
    "                family=binomial(link=\"logit\"),\n",
    "                data=wells,\n",
    "                refresh=0))"
   ]
  },
  {
   "cell_type": "code",
   "execution_count": 31,
   "id": "0f44b686",
   "metadata": {},
   "outputs": [
    {
     "data": {
      "text/plain": [
       "stan_glm\n",
       " family:       binomial [logit]\n",
       " formula:      switch ~ c_dist100 + c_arsenic + c_dist100:c_arsenic\n",
       " observations: 3020\n",
       " predictors:   4\n",
       "------\n",
       "                    Median MAD_SD\n",
       "(Intercept)          0.4    0.0  \n",
       "c_dist100           -0.9    0.1  \n",
       "c_arsenic            0.5    0.0  \n",
       "c_dist100:c_arsenic -0.2    0.1  \n",
       "\n",
       "------\n",
       "* For help interpreting the printed output see ?print.stanreg\n",
       "* For info on the priors used see ?prior_summary.stanreg"
      ]
     },
     "metadata": {},
     "output_type": "display_data"
    }
   ],
   "source": [
    "(fit5 <- stan_glm(switch ~ c_dist100 + c_arsenic + c_dist100:c_arsenic,\n",
    "                family=binomial(link=\"logit\"),\n",
    "                data=wells,\n",
    "                refresh=0))"
   ]
  },
  {
   "cell_type": "markdown",
   "id": "57e01926",
   "metadata": {},
   "source": [
    "# Graphing a fitted logistic regression\n",
    "\n",
    "We downloaded data with weight (in pounds) and age (in years) from a random sample of American adults.\n",
    "We then defined a new variable:\n",
    "\n",
    "```\n",
    "heavy <- weight > 200\n",
    "```\n",
    "\n",
    "and fit a logistic regression, predicting `heavy` from `height` (in inches).\n",
    "\n",
    "```\n",
    "stan_glm(formula = heavy ~ height, family=binomial(link=\"logit\"), data=health)\n",
    "\n",
    "            Median    MAD_SD\n",
    "(Intercept) -21.51     1.60\n",
    "height        0.28     0.02\n",
    "```\n",
    "\n",
    "## Graph the curve\n",
    "\n",
    "Graph the logistic regression curve (the probability that someone is heavy) over the approximate range of the data.\n",
    "Be clear where the line goes through the 50% probability piont."
   ]
  },
  {
   "cell_type": "markdown",
   "id": "4a5c9678",
   "metadata": {},
   "source": [
    "## Fill in the blank\n",
    "\n",
    "Near the 50% point, comparing two people who differ by one inch in height, you'll expect a difference of **__** in the probability of being heavy."
   ]
  },
  {
   "cell_type": "markdown",
   "id": "1a973750",
   "metadata": {},
   "source": [
    "# Linear transformations\n",
    "\n",
    "In the regression from the previous exercise, suppose you replace height in inches by height in centimeters.\n",
    "What would then be the intercept and slope?"
   ]
  },
  {
   "cell_type": "markdown",
   "id": "4cf904cd",
   "metadata": {},
   "source": [
    "# The algebra of logistic regression with one predictor\n",
    "\n",
    "You are interested in how well the combined earnings of the parents in a child's family predicts high school graduation.\n",
    "You are told that the probability a child graduates from high school is 27% for children whose parents earn no income and is 88% for clidren whose parents earn \\\\$60&thinsp;000.\n",
    "Determine the logistic regression model that is consistent with this information.\n",
    "For simplicity, you may want to assume that income is measured in units of \\\\$10&thinsp;000."
   ]
  },
  {
   "cell_type": "markdown",
   "id": "27bbd781",
   "metadata": {},
   "source": [
    "# Expressing a comparison of proportions as a logistic regression\n",
    "\n",
    "A randomized experiment is performed within a survey, and 1000 people are contacted.\n",
    "Half the people contactes are promised a \\\\$5 incentive to participate, and half are not promised and incentive.\n",
    "The result is a 50% response rate among the treated group and 40% response rate among the control group.\n",
    "\n",
    "## Fitting Logistic Regression\n",
    "\n",
    "Set up these results as data in R.\n",
    "From these data, fit a logistic regression of response on the treatment indicator."
   ]
  },
  {
   "cell_type": "markdown",
   "id": "cbb43ef6",
   "metadata": {},
   "source": [
    "## Comparing with Statistical Inference\n",
    "\n",
    "Compare to the results from Exercise 4.1."
   ]
  },
  {
   "cell_type": "markdown",
   "id": "2cf28cf2",
   "metadata": {},
   "source": [
    "# Building a logistic regression model\n",
    "\n",
    "The folder [Rodents](https://github.com/avehtari/ROS-Examples/tree/master/Rodents) contains data on rodents in a sample of New York City apartments."
   ]
  },
  {
   "cell_type": "code",
   "execution_count": 17,
   "id": "430b5677",
   "metadata": {},
   "outputs": [],
   "source": [
    "filename <- 'data/Rodents/rodents.dat'\n",
    "\n",
    "download_if_missing(filename, 'https://raw.githubusercontent.com/avehtari/ROS-Examples/master/Rodents/rodents.dat')\n",
    "\n",
    "rodents <- read.table(filename)"
   ]
  },
  {
   "cell_type": "markdown",
   "id": "9566ddb0",
   "metadata": {},
   "source": [
    "# Fake-data simulation to evaluate a statistical procedure\n",
    "\n",
    "When can we get away with fitting linear regression to binary data?\n",
    "You will explore this question by simulating data from a logistic regression, then fitten a lienar regression, then looping this procedure to compute the coverate of the estimates.\n",
    "\n",
    "## Simulation\n",
    "\n",
    "You will be simulating indepentent binaty data, $y_i, i=1,\\ldots,n$, from the model, ${\\rm Pr}(y_i = 1) = {\\rm logit}^{-1}(a + bx_i + \\theta z_i$), where the $x_i$'s are drawn uniformly from the range (0, 100) and the $z_i$'s are randomly set to 0 or 1.\n",
    "The \"cover story\" here is that $y$ represents passing or failing an exam, $x$ is the score on a pre-test, and $z$ is a treatment.\n",
    "\n",
    "To do this simulation, you will need to set true values of $a$, $b$, and $\\theta$. Choose $a$ and $b$ so that 60% of the students in the control group will pass the exam, with the probability of passing being 80% for students in the control group who scored 100 on the midterm.\n",
    "\n",
    "Choose $\\theta$ so that the average probability of passing increases by 10 percentage points under the treatment.\n",
    "\n",
    "Report your values fo $a, b, \\theta$ and explain your reasoning (including simulation code).\n",
    "It's not enough just to guess."
   ]
  },
  {
   "cell_type": "markdown",
   "id": "122ff69d",
   "metadata": {},
   "source": [
    "## Fitting a linear regression\n",
    "\n",
    "Simulate $n=50$ data points from you model, and then fit a linear regression of $y$ on $x$ and $z$.\n",
    "Look at the estimate and standard error for the coefficient of $z$.\n",
    "Does the true average treatment effect fall inside this interval?"
   ]
  },
  {
   "cell_type": "markdown",
   "id": "187e2136",
   "metadata": {},
   "source": [
    "## Coverage\n",
    "\n",
    "Repeat you simulation 10&thinsp;000 times.\n",
    "Compute the coverage of the normal-theory 50% and 95% intervals (that is, the estimates of ±0.67 and 1.96 standard errors)."
   ]
  }
 ],
 "metadata": {
  "kernelspec": {
   "display_name": "R",
   "language": "R",
   "name": "ir"
  },
  "language_info": {
   "codemirror_mode": "r",
   "file_extension": ".r",
   "mimetype": "text/x-r-source",
   "name": "R",
   "pygments_lexer": "r",
   "version": "3.6.3"
  },
  "toc": {
   "base_numbering": 1,
   "nav_menu": {},
   "number_sections": true,
   "sideBar": true,
   "skip_h1_title": false,
   "title_cell": "Table of Contents",
   "title_sidebar": "Contents",
   "toc_cell": false,
   "toc_position": {},
   "toc_section_display": true,
   "toc_window_display": false
  }
 },
 "nbformat": 4,
 "nbformat_minor": 5
}
