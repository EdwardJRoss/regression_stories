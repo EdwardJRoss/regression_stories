{
 "cells": [
  {
   "cell_type": "code",
   "execution_count": 40,
   "metadata": {},
   "outputs": [
    {
     "name": "stderr",
     "output_type": "stream",
     "text": [
      "Loading required package: ggplot2\n",
      "\n",
      "Loading required package: ggstance\n",
      "\n",
      "\n",
      "Attaching package: ‘ggstance’\n",
      "\n",
      "\n",
      "The following objects are masked from ‘package:ggplot2’:\n",
      "\n",
      "    geom_errorbarh, GeomErrorbarh\n",
      "\n",
      "\n",
      "Loading required package: scales\n",
      "\n",
      "Loading required package: ggridges\n",
      "\n",
      "\n",
      "New to ggformula?  Try the tutorials: \n",
      "\tlearnr::run_tutorial(\"introduction\", package = \"ggformula\")\n",
      "\tlearnr::run_tutorial(\"refining\", package = \"ggformula\")\n",
      "\n"
     ]
    }
   ],
   "source": [
    "library(rstanarm)\n",
    "library(ggformula)"
   ]
  },
  {
   "cell_type": "code",
   "execution_count": null,
   "metadata": {},
   "outputs": [],
   "source": [
    "data_p"
   ]
  },
  {
   "cell_type": "code",
   "execution_count": 56,
   "metadata": {},
   "outputs": [],
   "source": [
    "download_if_missing <- function(filename, url) {\n",
    "    if (!file.exists(filename)) {\n",
    "        dir.create(dirname(filename), showWarnings=FALSE, recursive=TRUE)\n",
    "        download.file(url, destfile = filename, method=\"curl\")\n",
    "    }\n",
    "}"
   ]
  },
  {
   "cell_type": "code",
   "execution_count": 59,
   "metadata": {},
   "outputs": [],
   "source": [
    "filename <- \"./data/ElectionsEconomy/hibbs.dat\"\n",
    "\n",
    "download_if_missing(filename,\n",
    "                    'https://raw.githubusercontent.com/avehtari/ROS-Examples/master/ElectionsEconomy/data/hibbs.dat')"
   ]
  },
  {
   "cell_type": "code",
   "execution_count": 60,
   "metadata": {},
   "outputs": [],
   "source": [
    "hibbs <- read.table(\"./data/ElectionsEconomy/hibbs.dat\", header=TRUE)"
   ]
  },
  {
   "cell_type": "code",
   "execution_count": 61,
   "metadata": {},
   "outputs": [
    {
     "data": {
      "text/html": [
       "<table class=\"dataframe\">\n",
       "<caption>A data.frame: 16 × 5</caption>\n",
       "<thead>\n",
       "\t<tr><th scope=col>year</th><th scope=col>growth</th><th scope=col>vote</th><th scope=col>inc_party_candidate</th><th scope=col>other_candidate</th></tr>\n",
       "\t<tr><th scope=col>&lt;int&gt;</th><th scope=col>&lt;dbl&gt;</th><th scope=col>&lt;dbl&gt;</th><th scope=col>&lt;fct&gt;</th><th scope=col>&lt;fct&gt;</th></tr>\n",
       "</thead>\n",
       "<tbody>\n",
       "\t<tr><td>1952</td><td> 2.40</td><td>44.60</td><td>Stevenson </td><td>Eisenhower</td></tr>\n",
       "\t<tr><td>1956</td><td> 2.89</td><td>57.76</td><td>Eisenhower</td><td>Stevenson </td></tr>\n",
       "\t<tr><td>1960</td><td> 0.85</td><td>49.91</td><td>Nixon     </td><td>Kennedy   </td></tr>\n",
       "\t<tr><td>1964</td><td> 4.21</td><td>61.34</td><td>Johnson   </td><td>Goldwater </td></tr>\n",
       "\t<tr><td>1968</td><td> 3.02</td><td>49.60</td><td>Humphrey  </td><td>Nixon     </td></tr>\n",
       "\t<tr><td>1972</td><td> 3.62</td><td>61.79</td><td>Nixon     </td><td>McGovern  </td></tr>\n",
       "\t<tr><td>1976</td><td> 1.08</td><td>48.95</td><td>Ford      </td><td>Carter    </td></tr>\n",
       "\t<tr><td>1980</td><td>-0.39</td><td>44.70</td><td>Carter    </td><td>Reagan    </td></tr>\n",
       "\t<tr><td>1984</td><td> 3.86</td><td>59.17</td><td>Reagan    </td><td>Mondale   </td></tr>\n",
       "\t<tr><td>1988</td><td> 2.27</td><td>53.94</td><td>Bush, Sr. </td><td>Dukakis   </td></tr>\n",
       "\t<tr><td>1992</td><td> 0.38</td><td>46.55</td><td>Bush, Sr. </td><td>Clinton   </td></tr>\n",
       "\t<tr><td>1996</td><td> 1.04</td><td>54.74</td><td>Clinton   </td><td>Dole      </td></tr>\n",
       "\t<tr><td>2000</td><td> 2.36</td><td>50.27</td><td>Gore      </td><td>Bush, Jr. </td></tr>\n",
       "\t<tr><td>2004</td><td> 1.72</td><td>51.24</td><td>Bush, Jr. </td><td>Kerry     </td></tr>\n",
       "\t<tr><td>2008</td><td> 0.10</td><td>46.32</td><td>McCain    </td><td>Obama     </td></tr>\n",
       "\t<tr><td>2012</td><td> 0.95</td><td>52.00</td><td>Obama     </td><td>Romney    </td></tr>\n",
       "</tbody>\n",
       "</table>\n"
      ],
      "text/latex": [
       "A data.frame: 16 × 5\n",
       "\\begin{tabular}{lllll}\n",
       " year & growth & vote & inc\\_party\\_candidate & other\\_candidate\\\\\n",
       " <int> & <dbl> & <dbl> & <fct> & <fct>\\\\\n",
       "\\hline\n",
       "\t 1952 &  2.40 & 44.60 & Stevenson  & Eisenhower\\\\\n",
       "\t 1956 &  2.89 & 57.76 & Eisenhower & Stevenson \\\\\n",
       "\t 1960 &  0.85 & 49.91 & Nixon      & Kennedy   \\\\\n",
       "\t 1964 &  4.21 & 61.34 & Johnson    & Goldwater \\\\\n",
       "\t 1968 &  3.02 & 49.60 & Humphrey   & Nixon     \\\\\n",
       "\t 1972 &  3.62 & 61.79 & Nixon      & McGovern  \\\\\n",
       "\t 1976 &  1.08 & 48.95 & Ford       & Carter    \\\\\n",
       "\t 1980 & -0.39 & 44.70 & Carter     & Reagan    \\\\\n",
       "\t 1984 &  3.86 & 59.17 & Reagan     & Mondale   \\\\\n",
       "\t 1988 &  2.27 & 53.94 & Bush, Sr.  & Dukakis   \\\\\n",
       "\t 1992 &  0.38 & 46.55 & Bush, Sr.  & Clinton   \\\\\n",
       "\t 1996 &  1.04 & 54.74 & Clinton    & Dole      \\\\\n",
       "\t 2000 &  2.36 & 50.27 & Gore       & Bush, Jr. \\\\\n",
       "\t 2004 &  1.72 & 51.24 & Bush, Jr.  & Kerry     \\\\\n",
       "\t 2008 &  0.10 & 46.32 & McCain     & Obama     \\\\\n",
       "\t 2012 &  0.95 & 52.00 & Obama      & Romney    \\\\\n",
       "\\end{tabular}\n"
      ],
      "text/markdown": [
       "\n",
       "A data.frame: 16 × 5\n",
       "\n",
       "| year &lt;int&gt; | growth &lt;dbl&gt; | vote &lt;dbl&gt; | inc_party_candidate &lt;fct&gt; | other_candidate &lt;fct&gt; |\n",
       "|---|---|---|---|---|\n",
       "| 1952 |  2.40 | 44.60 | Stevenson  | Eisenhower |\n",
       "| 1956 |  2.89 | 57.76 | Eisenhower | Stevenson  |\n",
       "| 1960 |  0.85 | 49.91 | Nixon      | Kennedy    |\n",
       "| 1964 |  4.21 | 61.34 | Johnson    | Goldwater  |\n",
       "| 1968 |  3.02 | 49.60 | Humphrey   | Nixon      |\n",
       "| 1972 |  3.62 | 61.79 | Nixon      | McGovern   |\n",
       "| 1976 |  1.08 | 48.95 | Ford       | Carter     |\n",
       "| 1980 | -0.39 | 44.70 | Carter     | Reagan     |\n",
       "| 1984 |  3.86 | 59.17 | Reagan     | Mondale    |\n",
       "| 1988 |  2.27 | 53.94 | Bush, Sr.  | Dukakis    |\n",
       "| 1992 |  0.38 | 46.55 | Bush, Sr.  | Clinton    |\n",
       "| 1996 |  1.04 | 54.74 | Clinton    | Dole       |\n",
       "| 2000 |  2.36 | 50.27 | Gore       | Bush, Jr.  |\n",
       "| 2004 |  1.72 | 51.24 | Bush, Jr.  | Kerry      |\n",
       "| 2008 |  0.10 | 46.32 | McCain     | Obama      |\n",
       "| 2012 |  0.95 | 52.00 | Obama      | Romney     |\n",
       "\n"
      ],
      "text/plain": [
       "   year growth vote  inc_party_candidate other_candidate\n",
       "1  1952  2.40  44.60 Stevenson           Eisenhower     \n",
       "2  1956  2.89  57.76 Eisenhower          Stevenson      \n",
       "3  1960  0.85  49.91 Nixon               Kennedy        \n",
       "4  1964  4.21  61.34 Johnson             Goldwater      \n",
       "5  1968  3.02  49.60 Humphrey            Nixon          \n",
       "6  1972  3.62  61.79 Nixon               McGovern       \n",
       "7  1976  1.08  48.95 Ford                Carter         \n",
       "8  1980 -0.39  44.70 Carter              Reagan         \n",
       "9  1984  3.86  59.17 Reagan              Mondale        \n",
       "10 1988  2.27  53.94 Bush, Sr.           Dukakis        \n",
       "11 1992  0.38  46.55 Bush, Sr.           Clinton        \n",
       "12 1996  1.04  54.74 Clinton             Dole           \n",
       "13 2000  2.36  50.27 Gore                Bush, Jr.      \n",
       "14 2004  1.72  51.24 Bush, Jr.           Kerry          \n",
       "15 2008  0.10  46.32 McCain              Obama          \n",
       "16 2012  0.95  52.00 Obama               Romney         "
      ]
     },
     "metadata": {},
     "output_type": "display_data"
    }
   ],
   "source": [
    "hibbs"
   ]
  },
  {
   "cell_type": "code",
   "execution_count": 82,
   "metadata": {},
   "outputs": [
    {
     "data": {
      "image/png": "[encoded data removed]",
      "text/plain": [
       "plot without title"
      ]
     },
     "metadata": {
      "image/png": {
       "height": 420,
       "width": 420
      }
     },
     "output_type": "display_data"
    }
   ],
   "source": [
    "hibbsplot <- hibbs %>% gf_point(vote ~ growth) + xlab('Economic Growth') + ylab(\"Incumbent Party's Vote Share\")\n",
    "hibbsplot"
   ]
  },
  {
   "cell_type": "code",
   "execution_count": 78,
   "metadata": {},
   "outputs": [
    {
     "name": "stdout",
     "output_type": "stream",
     "text": [
      "\n",
      "SAMPLING FOR MODEL 'continuous' NOW (CHAIN 1).\n",
      "Chain 1: \n",
      "Chain 1: Gradient evaluation took 0.000129 seconds\n",
      "Chain 1: 1000 transitions using 10 leapfrog steps per transition would take 1.29 seconds.\n",
      "Chain 1: Adjust your expectations accordingly!\n",
      "Chain 1: \n",
      "Chain 1: \n",
      "Chain 1: Iteration:    1 / 2000 [  0%]  (Warmup)\n",
      "Chain 1: Iteration:  200 / 2000 [ 10%]  (Warmup)\n",
      "Chain 1: Iteration:  400 / 2000 [ 20%]  (Warmup)\n",
      "Chain 1: Iteration:  600 / 2000 [ 30%]  (Warmup)\n",
      "Chain 1: Iteration:  800 / 2000 [ 40%]  (Warmup)\n",
      "Chain 1: Iteration: 1000 / 2000 [ 50%]  (Warmup)\n",
      "Chain 1: Iteration: 1001 / 2000 [ 50%]  (Sampling)\n",
      "Chain 1: Iteration: 1200 / 2000 [ 60%]  (Sampling)\n",
      "Chain 1: Iteration: 1400 / 2000 [ 70%]  (Sampling)\n",
      "Chain 1: Iteration: 1600 / 2000 [ 80%]  (Sampling)\n",
      "Chain 1: Iteration: 1800 / 2000 [ 90%]  (Sampling)\n",
      "Chain 1: Iteration: 2000 / 2000 [100%]  (Sampling)\n",
      "Chain 1: \n",
      "Chain 1:  Elapsed Time: 0.027713 seconds (Warm-up)\n",
      "Chain 1:                0.025141 seconds (Sampling)\n",
      "Chain 1:                0.052854 seconds (Total)\n",
      "Chain 1: \n",
      "\n",
      "SAMPLING FOR MODEL 'continuous' NOW (CHAIN 2).\n",
      "Chain 2: \n",
      "Chain 2: Gradient evaluation took 1.1e-05 seconds\n",
      "Chain 2: 1000 transitions using 10 leapfrog steps per transition would take 0.11 seconds.\n",
      "Chain 2: Adjust your expectations accordingly!\n",
      "Chain 2: \n",
      "Chain 2: \n",
      "Chain 2: Iteration:    1 / 2000 [  0%]  (Warmup)\n",
      "Chain 2: Iteration:  200 / 2000 [ 10%]  (Warmup)\n",
      "Chain 2: Iteration:  400 / 2000 [ 20%]  (Warmup)\n",
      "Chain 2: Iteration:  600 / 2000 [ 30%]  (Warmup)\n",
      "Chain 2: Iteration:  800 / 2000 [ 40%]  (Warmup)\n",
      "Chain 2: Iteration: 1000 / 2000 [ 50%]  (Warmup)\n",
      "Chain 2: Iteration: 1001 / 2000 [ 50%]  (Sampling)\n",
      "Chain 2: Iteration: 1200 / 2000 [ 60%]  (Sampling)\n",
      "Chain 2: Iteration: 1400 / 2000 [ 70%]  (Sampling)\n",
      "Chain 2: Iteration: 1600 / 2000 [ 80%]  (Sampling)\n",
      "Chain 2: Iteration: 1800 / 2000 [ 90%]  (Sampling)\n",
      "Chain 2: Iteration: 2000 / 2000 [100%]  (Sampling)\n",
      "Chain 2: \n",
      "Chain 2:  Elapsed Time: 0.029501 seconds (Warm-up)\n",
      "Chain 2:                0.022326 seconds (Sampling)\n",
      "Chain 2:                0.051827 seconds (Total)\n",
      "Chain 2: \n",
      "\n",
      "SAMPLING FOR MODEL 'continuous' NOW (CHAIN 3).\n",
      "Chain 3: \n",
      "Chain 3: Gradient evaluation took 1.2e-05 seconds\n",
      "Chain 3: 1000 transitions using 10 leapfrog steps per transition would take 0.12 seconds.\n",
      "Chain 3: Adjust your expectations accordingly!\n",
      "Chain 3: \n",
      "Chain 3: \n",
      "Chain 3: Iteration:    1 / 2000 [  0%]  (Warmup)\n",
      "Chain 3: Iteration:  200 / 2000 [ 10%]  (Warmup)\n",
      "Chain 3: Iteration:  400 / 2000 [ 20%]  (Warmup)\n",
      "Chain 3: Iteration:  600 / 2000 [ 30%]  (Warmup)\n",
      "Chain 3: Iteration:  800 / 2000 [ 40%]  (Warmup)\n",
      "Chain 3: Iteration: 1000 / 2000 [ 50%]  (Warmup)\n",
      "Chain 3: Iteration: 1001 / 2000 [ 50%]  (Sampling)\n",
      "Chain 3: Iteration: 1200 / 2000 [ 60%]  (Sampling)\n",
      "Chain 3: Iteration: 1400 / 2000 [ 70%]  (Sampling)\n",
      "Chain 3: Iteration: 1600 / 2000 [ 80%]  (Sampling)\n",
      "Chain 3: Iteration: 1800 / 2000 [ 90%]  (Sampling)\n",
      "Chain 3: Iteration: 2000 / 2000 [100%]  (Sampling)\n",
      "Chain 3: \n",
      "Chain 3:  Elapsed Time: 0.028046 seconds (Warm-up)\n",
      "Chain 3:                0.034051 seconds (Sampling)\n",
      "Chain 3:                0.062097 seconds (Total)\n",
      "Chain 3: \n",
      "\n",
      "SAMPLING FOR MODEL 'continuous' NOW (CHAIN 4).\n",
      "Chain 4: \n",
      "Chain 4: Gradient evaluation took 1.2e-05 seconds\n",
      "Chain 4: 1000 transitions using 10 leapfrog steps per transition would take 0.12 seconds.\n",
      "Chain 4: Adjust your expectations accordingly!\n",
      "Chain 4: \n",
      "Chain 4: \n",
      "Chain 4: Iteration:    1 / 2000 [  0%]  (Warmup)\n",
      "Chain 4: Iteration:  200 / 2000 [ 10%]  (Warmup)\n",
      "Chain 4: Iteration:  400 / 2000 [ 20%]  (Warmup)\n",
      "Chain 4: Iteration:  600 / 2000 [ 30%]  (Warmup)\n",
      "Chain 4: Iteration:  800 / 2000 [ 40%]  (Warmup)\n",
      "Chain 4: Iteration: 1000 / 2000 [ 50%]  (Warmup)\n",
      "Chain 4: Iteration: 1001 / 2000 [ 50%]  (Sampling)\n",
      "Chain 4: Iteration: 1200 / 2000 [ 60%]  (Sampling)\n",
      "Chain 4: Iteration: 1400 / 2000 [ 70%]  (Sampling)\n",
      "Chain 4: Iteration: 1600 / 2000 [ 80%]  (Sampling)\n",
      "Chain 4: Iteration: 1800 / 2000 [ 90%]  (Sampling)\n",
      "Chain 4: Iteration: 2000 / 2000 [100%]  (Sampling)\n",
      "Chain 4: \n",
      "Chain 4:  Elapsed Time: 0.027305 seconds (Warm-up)\n",
      "Chain 4:                0.024787 seconds (Sampling)\n",
      "Chain 4:                0.052092 seconds (Total)\n",
      "Chain 4: \n"
     ]
    }
   ],
   "source": [
    "M1 <- stan_glm(vote ~ growth, data=hibbs)"
   ]
  },
  {
   "cell_type": "code",
   "execution_count": 80,
   "metadata": {},
   "outputs": [
    {
     "name": "stdout",
     "output_type": "stream",
     "text": [
      "stan_glm\n",
      " family:       gaussian [identity]\n",
      " formula:      vote ~ growth\n",
      " observations: 16\n",
      " predictors:   2\n",
      "------\n",
      "            Median MAD_SD\n",
      "(Intercept) 46.3    1.7  \n",
      "growth       3.1    0.7  \n",
      "\n",
      "Auxiliary parameter(s):\n",
      "      Median MAD_SD\n",
      "sigma 3.8    0.7   \n",
      "\n",
      "------\n",
      "* For help interpreting the printed output see ?print.stanreg\n",
      "* For info on the priors used see ?prior_summary.stanreg\n"
     ]
    }
   ],
   "source": [
    "print(M1)"
   ]
  },
  {
   "cell_type": "code",
   "execution_count": 86,
   "metadata": {},
   "outputs": [
    {
     "data": {
      "text/html": [
       "<style>\n",
       ".dl-inline {width: auto; margin:0; padding: 0}\n",
       ".dl-inline>dt, .dl-inline>dd {float: none; width: auto; display: inline-block}\n",
       ".dl-inline>dt::after {content: \":\\0020\"; padding-right: .5ex}\n",
       ".dl-inline>dt:not(:first-of-type) {padding-left: .5ex}\n",
       "</style><dl class=dl-inline><dt>(Intercept)</dt><dd>46.2795888767876</dd><dt>growth</dt><dd>3.06036542139075</dd></dl>\n"
      ],
      "text/latex": [
       "\\begin{description*}\n",
       "\\item[(Intercept)] 46.2795888767876\n",
       "\\item[growth] 3.06036542139075\n",
       "\\end{description*}\n"
      ],
      "text/markdown": [
       "(Intercept)\n",
       ":   46.2795888767876growth\n",
       ":   3.06036542139075\n",
       "\n"
      ],
      "text/plain": [
       "(Intercept)      growth \n",
       "  46.279589    3.060365 "
      ]
     },
     "metadata": {},
     "output_type": "display_data"
    }
   ],
   "source": [
    "coef(M1)"
   ]
  },
  {
   "cell_type": "code",
   "execution_count": 96,
   "metadata": {},
   "outputs": [
    {
     "data": {
      "image/png": "[encoded data removed]",
      "text/plain": [
       "plot without title"
      ]
     },
     "metadata": {
      "image/png": {
       "height": 420,
       "width": 420
      }
     },
     "output_type": "display_data"
    }
   ],
   "source": [
    "hibbsplot + geom_abline(intercept=coef(M1)[1], slope=coef(M1)[2]) + ggtitle('Data and Linear Fit')"
   ]
  }
 ],
 "metadata": {
  "kernelspec": {
   "display_name": "R",
   "language": "R",
   "name": "ir"
  },
  "language_info": {
   "codemirror_mode": "r",
   "file_extension": ".r",
   "mimetype": "text/x-r-source",
   "name": "R",
   "pygments_lexer": "r",
   "version": "3.6.3"
  },
  "toc": {
   "base_numbering": 1,
   "nav_menu": {},
   "number_sections": true,
   "sideBar": true,
   "skip_h1_title": false,
   "title_cell": "Table of Contents",
   "title_sidebar": "Contents",
   "toc_cell": false,
   "toc_position": {},
   "toc_section_display": true,
   "toc_window_display": false
  }
 },
 "nbformat": 4,
 "nbformat_minor": 4
}
